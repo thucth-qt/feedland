{
 "cells": [
  {
   "cell_type": "markdown",
   "metadata": {},
   "source": [
    "## dataset"
   ]
  },
  {
   "cell_type": "code",
   "execution_count": 5,
   "metadata": {},
   "outputs": [
    {
     "data": {
      "text/plain": [
       "([<matplotlib.axis.XTick at 0x7fe5704e6590>,\n",
       "  <matplotlib.axis.XTick at 0x7fe575482ad0>,\n",
       "  <matplotlib.axis.XTick at 0x7fe575482790>,\n",
       "  <matplotlib.axis.XTick at 0x7fe54f4e2e90>],\n",
       " [Text(0, 0, 'minimal'),\n",
       "  Text(0, 0, 'normal'),\n",
       "  Text(0, 0, 'empty'),\n",
       "  Text(0, 0, 'full')])"
      ]
     },
     "execution_count": 5,
     "metadata": {},
     "output_type": "execute_result"
    },
    {
     "data": {
      "image/png": "[encoded data removed]",
      "text/plain": [
       "<Figure size 432x288 with 1 Axes>"
      ]
     },
     "metadata": {
      "needs_background": "light"
     },
     "output_type": "display_data"
    }
   ],
   "source": [
    "path = \"data/classified_data/val\"\n",
    "from glob import glob \n",
    "import os\n",
    "\n",
    "cls2num = {}\n",
    "for cls_name in os.listdir(path):\n",
    "  cls2num[cls_name] = len(os.listdir(os.path.join(path, cls_name)))\n",
    "\n",
    "import matplotlib.pyplot as plt \n",
    "\n",
    "plt.bar(range(len(cls2num)), list(cls2num.values()), align='center')\n",
    "plt.xticks(range(len(cls2num)), list(cls2num.keys()))"
   ]
  },
  {
   "cell_type": "markdown",
   "metadata": {},
   "source": [
    "## load model"
   ]
  },
  {
   "cell_type": "code",
   "execution_count": 8,
   "metadata": {},
   "outputs": [
    {
     "name": "stderr",
     "output_type": "stream",
     "text": [
      "Downloading: \"https://github.com/rwightman/pytorch-image-models/releases/download/v0.1-weights/efficientnet_b0_ra-3dd342df.pth\" to /root/.cache/torch/hub/checkpoints/efficientnet_b0_ra-3dd342df.pth\n"
     ]
    }
   ],
   "source": [
    "import sys\n",
    "sys.path.append(\"/content/feedlane_thucth/timm\")\n",
    "import argparse\n",
    "import os\n",
    "import csv\n",
    "import glob\n",
    "import json\n",
    "import time\n",
    "import logging\n",
    "import torch\n",
    "import torch.nn as nn\n",
    "import torch.nn.parallel\n",
    "from collections import OrderedDict\n",
    "from contextlib import suppress\n",
    "\n",
    "from timm.models import create_model, apply_test_time_pool, load_checkpoint, is_model, list_models\n",
    "from timm.data import create_dataset, create_loader, resolve_data_config, RealLabelsImagenet\n",
    "from timm.utils import accuracy, AverageMeter, natural_key, setup_default_logging, set_jit_fuser, visualize, get_pred\n",
    "\n",
    "\n",
    "model = create_model(\n",
    "    \"efficientnet_b0\",\n",
    "    pretrained= \"/content/feedlane_thucth/output/train/20220702-101406-efficientnet_b0-48/model_best.pth.tar\",\n",
    "    num_classes=1,\n",
    "    in_chans=3,\n",
    "    global_pool=None)"
   ]
  },
  {
   "cell_type": "code",
   "execution_count": 9,
   "metadata": {},
   "outputs": [],
   "source": [
    "model = model.cuda()\n",
    "criterion = nn.CrossEntropyLoss().cuda()\n"
   ]
  },
  {
   "cell_type": "code",
   "execution_count": null,
   "metadata": {},
   "outputs": [],
   "source": [
    "dataset = create_dataset(\n",
    "root=args.data, name=args.dataset, split=args.split,\n",
    "download=args.dataset_download, load_bytes=args.tf_preprocessing, class_map=args.class_map)\n"
   ]
  }
 ],
 "metadata": {
  "kernelspec": {
   "display_name": "Python 3.8.10 64-bit",
   "language": "python",
   "name": "python3"
  },
  "language_info": {
   "codemirror_mode": {
    "name": "ipython",
    "version": 3
   },
   "file_extension": ".py",
   "mimetype": "text/x-python",
   "name": "python",
   "nbconvert_exporter": "python",
   "pygments_lexer": "ipython3",
   "version": "3.7.13"
  },
  "orig_nbformat": 4,
  "vscode": {
   "interpreter": {
    "hash": "31f2aee4e71d21fbe5cf8b01ff0e069b9275f58929596ceb00d14d90e3e16cd6"
   }
  }
 },
 "nbformat": 4,
 "nbformat_minor": 2
}
