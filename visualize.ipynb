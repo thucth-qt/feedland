{
 "cells": [
  {
   "cell_type": "code",
   "execution_count": 8,
   "metadata": {},
   "outputs": [
    {
     "data": {
      "text/plain": [
       "([<matplotlib.axis.XTick at 0x7fb92a5fe3d0>,\n",
       "  <matplotlib.axis.XTick at 0x7fb92a5fe390>,\n",
       "  <matplotlib.axis.XTick at 0x7fb92a5fbf90>,\n",
       "  <matplotlib.axis.XTick at 0x7fb92a5b0550>],\n",
       " [Text(0, 0, 'empty'),\n",
       "  Text(0, 0, 'normal'),\n",
       "  Text(0, 0, 'minimal'),\n",
       "  Text(0, 0, 'full')])"
      ]
     },
     "execution_count": 8,
     "metadata": {},
     "output_type": "execute_result"
    },
    {
     "data": {
      "image/png": "[encoded data removed]",
      "text/plain": [
       "<Figure size 432x288 with 1 Axes>"
      ]
     },
     "metadata": {
      "needs_background": "light"
     },
     "output_type": "display_data"
    }
   ],
   "source": [
    "path = \"/content/feedlane/data/subdata/test\"\n",
    "from glob import glob \n",
    "import os\n",
    "\n",
    "cls2num = {}\n",
    "for cls_name in os.listdir(path):\n",
    "  cls2num[cls_name] = len(os.listdir(os.path.join(path, cls_name)))\n",
    "\n",
    "import matplotlib.pyplot as plt \n",
    "\n",
    "plt.bar(range(len(cls2num)), list(cls2num.values()), align='center')\n",
    "plt.xticks(range(len(cls2num)), list(cls2num.keys()))"
   ]
  },
  {
   "cell_type": "code",
   "execution_count": 9,
   "metadata": {},
   "outputs": [
    {
     "data": {
      "text/plain": [
       "([<matplotlib.axis.XTick at 0x7fb92a56a2d0>,\n",
       "  <matplotlib.axis.XTick at 0x7fb92a56a290>,\n",
       "  <matplotlib.axis.XTick at 0x7fb92a68a390>,\n",
       "  <matplotlib.axis.XTick at 0x7fb92a65f4d0>],\n",
       " [Text(0, 0, 'empty'),\n",
       "  Text(0, 0, 'normal'),\n",
       "  Text(0, 0, 'minimal'),\n",
       "  Text(0, 0, 'full')])"
      ]
     },
     "execution_count": 9,
     "metadata": {},
     "output_type": "execute_result"
    },
    {
     "data": {
      "image/png": "[encoded data removed]",
      "text/plain": [
       "<Figure size 432x288 with 1 Axes>"
      ]
     },
     "metadata": {
      "needs_background": "light"
     },
     "output_type": "display_data"
    }
   ],
   "source": [
    "path = \"/content/feedlane/data/subdata/train\"\n",
    "from glob import glob \n",
    "import os\n",
    "\n",
    "cls2num = {}\n",
    "for cls_name in os.listdir(path):\n",
    "  cls2num[cls_name] = len(os.listdir(os.path.join(path, cls_name)))\n",
    "\n",
    "import matplotlib.pyplot as plt \n",
    "\n",
    "plt.bar(range(len(cls2num)), list(cls2num.values()), align='center')\n",
    "plt.xticks(range(len(cls2num)), list(cls2num.keys()))"
   ]
  },
  {
   "cell_type": "code",
   "execution_count": 10,
   "metadata": {},
   "outputs": [
    {
     "data": {
      "text/plain": [
       "([<matplotlib.axis.XTick at 0x7fb92b493c90>,\n",
       "  <matplotlib.axis.XTick at 0x7fb92b4933d0>,\n",
       "  <matplotlib.axis.XTick at 0x7fb92a6f5f50>,\n",
       "  <matplotlib.axis.XTick at 0x7fb92a566090>],\n",
       " [Text(0, 0, 'empty'),\n",
       "  Text(0, 0, 'normal'),\n",
       "  Text(0, 0, 'minimal'),\n",
       "  Text(0, 0, 'full')])"
      ]
     },
     "execution_count": 10,
     "metadata": {},
     "output_type": "execute_result"
    },
    {
     "data": {
      "image/png": "[encoded data removed]",
      "text/plain": [
       "<Figure size 432x288 with 1 Axes>"
      ]
     },
     "metadata": {
      "needs_background": "light"
     },
     "output_type": "display_data"
    }
   ],
   "source": [
    "path = \"/content/feedlane/data/subdata/val\"\n",
    "from glob import glob \n",
    "import os\n",
    "\n",
    "cls2num = {}\n",
    "for cls_name in os.listdir(path):\n",
    "  cls2num[cls_name] = len(os.listdir(os.path.join(path, cls_name)))\n",
    "\n",
    "import matplotlib.pyplot as plt \n",
    "\n",
    "plt.bar(range(len(cls2num)), list(cls2num.values()), align='center')\n",
    "plt.xticks(range(len(cls2num)), list(cls2num.keys()))"
   ]
  }
 ],
 "metadata": {
  "kernelspec": {
   "display_name": "Python 3.8.10 64-bit",
   "language": "python",
   "name": "python3"
  },
  "language_info": {
   "codemirror_mode": {
    "name": "ipython",
    "version": 3
   },
   "file_extension": ".py",
   "mimetype": "text/x-python",
   "name": "python",
   "nbconvert_exporter": "python",
   "pygments_lexer": "ipython3",
   "version": "3.7.13"
  },
  "orig_nbformat": 4,
  "vscode": {
   "interpreter": {
    "hash": "31f2aee4e71d21fbe5cf8b01ff0e069b9275f58929596ceb00d14d90e3e16cd6"
   }
  }
 },
 "nbformat": 4,
 "nbformat_minor": 2
}
